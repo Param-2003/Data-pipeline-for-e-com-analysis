{
 "cells": [
  {
   "cell_type": "code",
   "execution_count": 3,
   "id": "7e154b0d-334d-4397-afc2-c33a729b8496",
   "metadata": {},
   "outputs": [],
   "source": [
    "# E-commerce Customer Behavior Analytics Platform\n",
    "\n",
    "# This notebook simulates real-time clickstream events for an e-commerce platform, processes the data for analysis, and prepares it for cloud-based storage (simulated here). The pipeline is designed to be scalable for AWS Glue and Redshift environments.\n"
   ]
  },
  {
   "cell_type": "code",
   "execution_count": 19,
   "id": "200cd5bd-2c30-4bfb-a7c9-f20843a6b9a1",
   "metadata": {},
   "outputs": [
    {
     "name": "stdout",
     "output_type": "stream",
     "text": [
      " Simulating Clickstream events\n"
     ]
    }
   ],
   "source": [
    "import pandas as pd\n",
    "import random\n",
    "import time\n",
    "import json\n",
    "import matplotlib.pyplot as plt\n",
    "import seaborn as sns"
   ]
  },
  {
   "cell_type": "code",
   "execution_count": 21,
   "id": "0ec43421-634a-405d-83bd-2a7c5a8e9651",
   "metadata": {},
   "outputs": [
    {
     "name": "stdout",
     "output_type": "stream",
     "text": [
      "Cleaning Data\n"
     ]
    }
   ],
   "source": [
    "# Simulate 5000 clickstream events\n",
    "actions = ['view', 'add_to_cart', 'purchase']\n",
    "\n",
    "def generate_click_event():\n",
    "    return {\n",
    "        'user_id': random.randint(1, 5000),\n",
    "        'product_id': random.randint(1, 300),\n",
    "        'timestamp': int(time.time()),\n",
    "        'action': random.choice(actions)\n",
    "    }\n",
    "\n",
    "clickstream_data = [generate_click_event() for _ in range(5000)]\n",
    "\n",
    "# Convert to DataFrame\n",
    "df_clickstream = pd.DataFrame(clickstream_data)\n",
    "df_clickstream.head()"
   ]
  },
  {
   "cell_type": "code",
   "execution_count": 25,
   "id": "a3ca8c74-6000-48ca-9e04-07b4e85170de",
   "metadata": {},
   "outputs": [
    {
     "name": "stdout",
     "output_type": "stream",
     "text": [
      "user_id       0\n",
      "product_id    0\n",
      "timestamp     0\n",
      "action        0\n",
      "dtype: int64\n",
      "Total records after cleaning: 5000\n",
      "Product Analysis\n"
     ]
    }
   ],
   "source": [
    "# Check for null values\n",
    "print(df_clickstream.isnull().sum())\n",
    "\n",
    "# Filter only valid actions\n",
    "valid_actions = ['view', 'add_to_cart', 'purchase']\n",
    "df_cleaned = df_clickstream[df_clickstream['action'].isin(valid_actions)]\n",
    "\n",
    "print(f\"Total records after cleaning: {len(df_cleaned)}\")\n",
    "df_cleaned.head()"
   ]
  },
  {
   "cell_type": "code",
   "execution_count": 11,
   "id": "2980b696-8025-4974-9342-20bddeba4e3a",
   "metadata": {},
   "outputs": [
    {
     "name": "stdout",
     "output_type": "stream",
     "text": [
      "product_id\n",
      "103    15\n",
      "195    12\n",
      "115    12\n",
      "284    11\n",
      "217    11\n",
      "32     11\n",
      "105    11\n",
      "155    11\n",
      "70     11\n",
      "189    11\n",
      "Name: count, dtype: int64\n",
      "Conversion Rate: 101.13%\n"
     ]
    }
   ],
   "source": [
    "# Most popular products\n",
    "top_products = df_cleaned[df_cleaned['action'] == 'view']['product_id'].value_counts().head(10)\n",
    "print(top_products)\n",
    "\n",
    "# Conversion Rate (purchase / view)\n",
    "views = df_cleaned[df_cleaned['action'] == 'view']['user_id'].nunique()\n",
    "purchases = df_cleaned[df_cleaned['action'] == 'purchase']['user_id'].nunique()\n",
    "conversion_rate = (purchases / views) * 100\n",
    "print(f\"Conversion Rate: {conversion_rate:.2f}%\")\n"
   ]
  },
  {
   "cell_type": "code",
   "execution_count": 29,
   "id": "0abfb65b-7dba-4299-b529-9c411ece8f0a",
   "metadata": {},
   "outputs": [
    {
     "name": "stdout",
     "output_type": "stream",
     "text": [
      "Graphical Visualization\n"
     ]
    },
    {
     "data": {
      "image/png": "[encoded data removed]",
      "text/plain": [
       "<Figure size 1000x600 with 1 Axes>"
      ]
     },
     "metadata": {},
     "output_type": "display_data"
    }
   ],
   "source": [
    "# Top 10 viewed products\n",
    "plt.figure(figsize=(10,6))\n",
    "sns.barplot(x=top_products.index, y=top_products.values, palette=\"Blues_r\")\n",
    "plt.title('Top 10 Most Viewed Products')\n",
    "plt.xlabel('Product ID')\n",
    "plt.ylabel('Number of Views')\n",
    "plt.show()"
   ]
  },
  {
   "cell_type": "code",
   "execution_count": 15,
   "id": "d65ab15b-0395-4887-82b8-1052d23e5cec",
   "metadata": {},
   "outputs": [
    {
     "name": "stdout",
     "output_type": "stream",
     "text": [
      "✅ Cleaned data saved locally, ready for Redshift upload simulation.\n"
     ]
    }
   ],
   "source": [
    "# Save cleaned data as CSV (this would be uploaded to Redshift via COPY command in real production)\n",
    "df_cleaned.to_csv('cleaned_clickstream_data.csv', index=False)\n",
    "print(\"✅ Cleaned data saved locally, ready for Redshift upload simulation.\")\n"
   ]
  },
  {
   "cell_type": "code",
   "execution_count": null,
   "id": "6a235dc3-9cbd-487e-b7ed-e7eb31a045cf",
   "metadata": {},
   "outputs": [],
   "source": [
    "# Conclusion\n",
    "\n",
    "- Generated 5000 clickstream records\n",
    "- Cleaned data to remove invalid actions\n",
    "- Analyzed top products and conversion rate\n",
    "- Prepared cleaned data for cloud storage (Redshift simulation)\n",
    "- Visualization of product trends\n",
    "\n",
    "**Note:** For large scale ingestion (5M+ events/day), this pipeline would be migrated to AWS Glue for ETL processing and Redshift Spectrum for querying.\n"
   ]
  }
 ],
 "metadata": {
  "kernelspec": {
   "display_name": "Python 3 (ipykernel)",
   "language": "python",
   "name": "python3"
  },
  "language_info": {
   "codemirror_mode": {
    "name": "ipython",
    "version": 3
   },
   "file_extension": ".py",
   "mimetype": "text/x-python",
   "name": "python",
   "nbconvert_exporter": "python",
   "pygments_lexer": "ipython3",
   "version": "3.11.5"
  }
 },
 "nbformat": 4,
 "nbformat_minor": 5
}
